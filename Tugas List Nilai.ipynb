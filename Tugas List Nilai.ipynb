{
 "cells": [
  {
   "cell_type": "markdown",
   "metadata": {},
   "source": [
    "# LATIHAN 2 - Tugas List Nilai\n",
    "\n",
    "Diberikan sekumpulan Nilai Random antara 0 sampai dengan 100 sebanyak 250 nilai. Buatlah program untuk melakukan hal berikut:\n",
    "\n",
    "1. Tampilkan Angka Ganjil dari ke 250 nilai tersebut\n",
    "2. Tampilkan berapa banyak yang mendapatkan nilai lebih dari 70\n",
    "3. Tampilkan standar deviasi dari sekumpulan nilai tersebut\n",
    "4. Tampilkan nilai maksimum dan minimum\n",
    "5. Tampilkan modus dari sekumpulan nilai tersebut"
   ]
  },
  {
   "cell_type": "code",
   "execution_count": 6,
   "metadata": {},
   "outputs": [
    {
     "name": "stdout",
     "output_type": "stream",
     "text": [
      "List Nilai Tugas =  [5, 25, 79, 83, 99, 51, 40, 85, 37, 42, 71, 14, 9, 47, 5, 25, 46, 3, 36, 12, 66, 1, 39, 72, 87, 38, 98, 92, 69, 61, 66, 59, 63, 32, 1, 70, 12, 48, 21, 37, 61, 51, 11, 36, 93, 55, 16, 10, 52, 24, 36, 59, 54, 80, 97, 72, 63, 80, 98, 15, 12, 77, 72, 50, 47, 43, 74, 11, 53, 64, 57, 58, 37, 1, 24, 37, 26, 10, 77, 8, 93, 34, 91, 4, 11, 52, 36, 45, 17, 68, 30, 43, 64, 23, 94, 13, 1, 38, 25, 4, 76, 40, 5, 27, 97, 9, 13, 58, 56, 11, 34, 11, 3, 47, 34, 32, 73, 17, 34, 12, 82, 73, 87, 39, 91, 32, 4, 99, 10, 83, 2, 51, 44, 87, 43, 65, 13, 37, 27, 61, 51, 83, 32, 4, 97, 73, 28, 7, 78, 21, 38, 39, 76, 42, 30, 96, 95, 52, 71, 32, 29, 83, 78, 70, 42, 10, 98, 18, 60, 78, 17, 32, 93, 55, 59, 37, 24, 78, 87, 62, 90, 36, 22, 84, 67, 59, 81, 21, 56, 93, 32, 6, 7, 41, 81, 66, 54, 71, 5, 60, 36, 28, 57, 12, 65, 81, 74, 93, 27, 8, 78, 6, 27, 73, 1, 83, 78, 95, 39, 42, 7, 71, 36, 54, 38, 70, 3, 35, 34, 83, 45, 43, 84, 54, 56, 5, 37, 28, 33, 75, 37, 67, 5, 97, 33, 57, 38, 39, 28, 49]\n",
      "\n",
      "List Nilai Ganjil =  [5, 25, 79, 83, 99, 51, 85, 37, 71, 9, 47, 5, 25, 3, 1, 39, 87, 69, 61, 59, 63, 1, 21, 37, 61, 51, 11, 93, 55, 59, 97, 63, 15, 77, 47, 43, 11, 53, 57, 37, 1, 37, 77, 93, 91, 11, 45, 17, 43, 23, 13, 1, 25, 5, 27, 97, 9, 13, 11, 11, 3, 47, 73, 17, 73, 87, 39, 91, 99, 83, 51, 87, 43, 65, 13, 37, 27, 61, 51, 83, 97, 73, 7, 21, 39, 95, 71, 29, 83, 17, 93, 55, 59, 37, 87, 67, 59, 81, 21, 93, 7, 41, 81, 71, 5, 57, 65, 81, 93, 27, 27, 73, 1, 83, 95, 39, 7, 71, 3, 35, 83, 45, 43, 5, 37, 33, 75, 37, 67, 5, 97, 33, 57, 39, 49]\n",
      "\n",
      "List Nilai > 70 =  [79, 83, 99, 85, 71, 72, 87, 98, 92, 93, 80, 97, 72, 80, 98, 77, 72, 74, 77, 93, 91, 94, 76, 97, 73, 82, 73, 87, 91, 99, 83, 87, 83, 97, 73, 78, 76, 96, 95, 71, 83, 78, 98, 78, 93, 78, 87, 90, 84, 81, 93, 81, 71, 81, 74, 93, 78, 73, 83, 78, 95, 71, 83, 84, 75, 97]\n"
     ]
    }
   ],
   "source": [
    "import random\n",
    "\n",
    "# GENERATE RANDOM\n",
    "nilaiTugas = []\n",
    "for i in range(250):\n",
    "    nilaiTugas.append(random.randrange(1,100,1))\n",
    "\n",
    "print(\"List Nilai Tugas = \", nilaiTugas)\n",
    "\n",
    "# TAMPILKAN:\n",
    "\n",
    "# ganjil\n",
    "nilaiGanjil = []\n",
    "for n in nilaiTugas:\n",
    "    if n%2 == 1:\n",
    "        nilaiGanjil.append(n)\n",
    "print()\n",
    "print('List Nilai Ganjil = ',nilaiGanjil)\n",
    "\n",
    "# nilai > 70\n",
    "nilaiGT70 = []\n",
    "for n in nilaiTugas:\n",
    "    if n > 70:\n",
    "        nilaiGT70.append(n)\n",
    "print()\n",
    "print('List Nilai > 70 = ',nilaiGT70)\n",
    "\n",
    "# standar deviasi\n",
    "\n",
    "\n",
    "# maksimum\n",
    "sort_nilaiTugas = nilaiTugas.sort()\n",
    "\n",
    "# minimum\n",
    "\n",
    "\n",
    "# modus\n",
    "\n"
   ]
  }
 ],
 "metadata": {
  "kernelspec": {
   "display_name": "Python 3",
   "language": "python",
   "name": "python3"
  },
  "language_info": {
   "codemirror_mode": {
    "name": "ipython",
    "version": 3
   },
   "file_extension": ".py",
   "mimetype": "text/x-python",
   "name": "python",
   "nbconvert_exporter": "python",
   "pygments_lexer": "ipython3",
   "version": "3.7.0"
  }
 },
 "nbformat": 4,
 "nbformat_minor": 2
}
