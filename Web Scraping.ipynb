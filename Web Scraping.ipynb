{
 "cells": [
  {
   "cell_type": "code",
   "execution_count": 1,
   "metadata": {},
   "outputs": [],
   "source": [
    "from bs4 import BeautifulSoup as bs\n",
    "import urllib"
   ]
  },
  {
   "cell_type": "code",
   "execution_count": 2,
   "metadata": {},
   "outputs": [
    {
     "name": "stdout",
     "output_type": "stream",
     "text": [
      "b'<!DOCTYPE html>\\n<html>\\n<head>\\n <title>Indeks berita terbaru hari ini dari isu terkini di indonesia</title>\\n<meta name=\"description\" content=\"Indeks berita terbaru hari ini dari peristiwa, kecelakaan, kriminal, hukum, berita unik, Politik, dan liputan khusus di Indonesia dan Internasional\" itemprop=\"description\" />\\n<meta charset=\"utf-8\">\\n<meta http-equiv=\"X-UA-Compatible\" content=\"text/html; charset=UTF-8\" />\\n<meta name=\"viewport\" content=\"width=device-width, initial-scale=1.0\" />\\n<link href=\"https://plus.google.com/+detikcom\" rel=\"publisher\" />\\n <meta property=\"og:type\" content=\"article\" />\\n <meta property=\"og:site_name\" content=\"detiknews\" />\\n <meta property=\"og:title\" content=\"Indeks berita terbaru hari ini dari isu terkini di indonesia\" />\\n <meta property=\"og:image\" content=\"https://akcdn.detik.net.id/logo_tematik/logodetiknews.png\" />\\n <meta property=\"og:description\" content=\"Indeks berita terbaru hari ini dari peristiwa, kecelakaan, kriminal, hukum, berita unik, Politik, dan liputan khusus di Indonesia dan Internasional\" />\\n <meta property=\"og:url\" content=\"https://news.detik.com/indeks/all\" />\\n <meta property=\"fb:app_id\" content=\"187960271237149\" />\\n <meta property=\"fb:admins\" content=\"100000607566694\" />\\n <meta property=\"og:image:type\" content=\"image/jpeg\" />\\n <meta property=\"og:image:width\" content=\"650\" />\\n <meta property=\"og:image:height\" content=\"366\" />\\n<meta name=\"copyright\" content=\"detiknews\" itemprop=\"dateline\" />\\n<meta name=\"p:domain_verify\" content=\"405e0728202749df914f7811375e18a0\" />\\n<meta name=\"robots\" content=\"index, follow\" />\\n<meta content=\"Indeks berita terbaru hari ini dari peristiwa, kecelakaan, kriminal, hukum, berita unik, Politik, dan liputan khusus di Indonesia dan Internasional\" itemprop=\"headline\" />\\n<meta name=\"keywords\" content=\"berita hari ini, berita terkini, info berita, peristiwa, kecelakaan, kriminal, hukum, berita unik, Politik, liputan khusus, Indonesia, Internasional\" itemprop=\"keywords\" />\\n<meta name=\"thumbnailUrl\" content'...\n"
     ]
    }
   ],
   "source": [
    "url = 'https://news.detik.com/indeks/all'\n",
    "html = urllib.request.urlopen(url).read()\n",
    "print(str(html[:2000])+'...')"
   ]
  }
 ],
 "metadata": {
  "kernelspec": {
   "display_name": "Python 3",
   "language": "python",
   "name": "python3"
  },
  "language_info": {
   "codemirror_mode": {
    "name": "ipython",
    "version": 3
   },
   "file_extension": ".py",
   "mimetype": "text/x-python",
   "name": "python",
   "nbconvert_exporter": "python",
   "pygments_lexer": "ipython3",
   "version": "3.7.0"
  }
 },
 "nbformat": 4,
 "nbformat_minor": 2
}
