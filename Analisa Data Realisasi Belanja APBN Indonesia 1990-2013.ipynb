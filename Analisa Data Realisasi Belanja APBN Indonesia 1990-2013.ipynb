{
 "cells": [
  {
   "cell_type": "markdown",
   "metadata": {},
   "source": [
    "# 1. Deskripsi Data\n",
    "Dataset ini berisi total nilai belanja Pemerintah Indonesia berdasarkan realisasi APBN pada tahun Anggaran 1990-2013 untuk pos belanja Pemerintah Pusat dan Belanja untuk daerah. Data yang tersajikan ini sudah ter-summary hinggal ke level jenis/tipe pengeluaran. Walaupun di web data.go.id menyatakan bahwa data yang tersaji dari tahun 1990-2013, secara aktual data-nya untuk tahun 2012 dan 2013 nilainya tidak terisi.\n",
    "\n",
    "Penjelasan mengenai Variabel pada Dataset ini:\n",
    "\n",
    "* tahun: Tahun APBN\n",
    "* pos_belanja: Pos Belanja pada APBN (Belanja Pemerintah Pusat atau Anggaran Belanja untuk Daerah)\n",
    "* tipe_pengeluaran: Tipe dari pengeluaran\n",
    "* keterangan_pengeluaran: Keterangan mengenai pengeluaran tersebut\n",
    "* nilai: Nilai dari Belanja tersebut (dalam Milyar Rupiah)"
   ]
  },
  {
   "cell_type": "code",
   "execution_count": 14,
   "metadata": {},
   "outputs": [],
   "source": [
    "import pandas as pd\n",
    "\n",
    "real_apbn = pd.read_csv('processed-realisasi-apbn-belanja-indonesia-1990-2013.csv', delimiter = ',', encoding = \"ISO-8859-1\")\n",
    "# real_apbn.columns\n",
    "# real_apbn.iloc[10:15]"
   ]
  },
  {
   "cell_type": "markdown",
   "metadata": {},
   "source": [
    "# 2. Statistik Data\n",
    "\n",
    "Pada bagian ini akan disajikan beberapa statistik yang terkait dengan data, diantaranya adalah:\n",
    "\n",
    "* Kolom yang tersedia\n",
    "* Jumlah Record secara keseluruhan dan per tahun\n",
    "* Nilai maksimum dan minimum dari realisasi belanja per tahun\n",
    "* Rata-rata realisasi belanja per tahun\n",
    "* Total realisasi belanja per tahun, pos pengeluaran dan tipe pengeluaran"
   ]
  },
  {
   "cell_type": "code",
   "execution_count": 15,
   "metadata": {},
   "outputs": [
    {
     "data": {
      "text/plain": [
       "Index(['tahun', 'pos_belanja', 'tipe_pengeluaran', 'keterangan_pengeluaran',\n",
       "       'nilai'],\n",
       "      dtype='object')"
      ]
     },
     "execution_count": 15,
     "metadata": {},
     "output_type": "execute_result"
    }
   ],
   "source": [
    "#kolom yang tersedia pada data\n",
    "real_apbn.columns"
   ]
  },
  {
   "cell_type": "code",
   "execution_count": 16,
   "metadata": {},
   "outputs": [
    {
     "data": {
      "text/plain": [
       "tahun                     408\n",
       "pos_belanja               408\n",
       "tipe_pengeluaran          408\n",
       "keterangan_pengeluaran    408\n",
       "nilai                     363\n",
       "dtype: int64"
      ]
     },
     "execution_count": 16,
     "metadata": {},
     "output_type": "execute_result"
    }
   ],
   "source": [
    "# Jumlah record keseluruhan\n",
    "\n",
    "real_apbn.count()"
   ]
  },
  {
   "cell_type": "code",
   "execution_count": 19,
   "metadata": {},
   "outputs": [
    {
     "data": {
      "text/plain": [
       "tahun\n",
       "1990    16\n",
       "1991    16\n",
       "1992    16\n",
       "1993    16\n",
       "1994    16\n",
       "1995    16\n",
       "1996    16\n",
       "1997    16\n",
       "1998    16\n",
       "1999    16\n",
       "2000    16\n",
       "2001    17\n",
       "2002    17\n",
       "2003    17\n",
       "2004    17\n",
       "2005    17\n",
       "2006    17\n",
       "2007    17\n",
       "2008    17\n",
       "2009    17\n",
       "2010    17\n",
       "2011    17\n",
       "2012     0\n",
       "2013     0\n",
       "Name: nilai, dtype: int64"
      ]
     },
     "execution_count": 19,
     "metadata": {},
     "output_type": "execute_result"
    }
   ],
   "source": [
    "# Jumlah record per tahun\n",
    "\n",
    "real_apbn.groupby('tahun').nilai.count()"
   ]
  },
  {
   "cell_type": "code",
   "execution_count": 21,
   "metadata": {},
   "outputs": [
    {
     "data": {
      "text/plain": [
       "tahun\n",
       "1990      7952.0\n",
       "1991     10072.0\n",
       "1992     11114.0\n",
       "1993     11985.0\n",
       "1994     12942.0\n",
       "1995     13715.0\n",
       "1996     15830.0\n",
       "1997     18572.0\n",
       "1998     28607.0\n",
       "1999     10072.0\n",
       "2000     53809.6\n",
       "2001     68381.0\n",
       "2002     69159.0\n",
       "2003     76978.0\n",
       "2004     82131.0\n",
       "2005     95599.0\n",
       "2006    145664.0\n",
       "2007    164787.0\n",
       "2008    179507.0\n",
       "2009    186414.0\n",
       "2010    203572.0\n",
       "2011    225534.0\n",
       "2012         NaN\n",
       "2013         NaN\n",
       "Name: nilai, dtype: float64"
      ]
     },
     "execution_count": 21,
     "metadata": {},
     "output_type": "execute_result"
    }
   ],
   "source": [
    "# Nilai maksimum dari realisasi belanja per tahun\n",
    "\n",
    "real_apbn.groupby('tahun').nilai.max()"
   ]
  },
  {
   "cell_type": "code",
   "execution_count": 22,
   "metadata": {},
   "outputs": [
    {
     "data": {
      "text/plain": [
       "tahun\n",
       "1990        0.0\n",
       "1991        0.0\n",
       "1992        0.0\n",
       "1993        0.0\n",
       "1994        0.0\n",
       "1995        0.0\n",
       "1996        0.0\n",
       "1997        0.0\n",
       "1998        0.0\n",
       "1999        0.0\n",
       "2000        0.0\n",
       "2001        0.0\n",
       "2002        0.0\n",
       "2003        0.0\n",
       "2004      -10.0\n",
       "2005    -1987.0\n",
       "2006     -917.0\n",
       "2007     -237.0\n",
       "2008   -58721.0\n",
       "2009        0.0\n",
       "2010      -17.0\n",
       "2011      -48.0\n",
       "2012        NaN\n",
       "2013        NaN\n",
       "Name: nilai, dtype: float64"
      ]
     },
     "execution_count": 22,
     "metadata": {},
     "output_type": "execute_result"
    }
   ],
   "source": [
    "# Nilai minimum dari realisasi belanja per tahun\n",
    "\n",
    "real_apbn.groupby('tahun').nilai.min()"
   ]
  },
  {
   "cell_type": "code",
   "execution_count": 23,
   "metadata": {},
   "outputs": [
    {
     "data": {
      "text/plain": [
       "tahun\n",
       "1990     2484.687500\n",
       "1991     2786.437500\n",
       "1992     3253.000000\n",
       "1993     3614.625000\n",
       "1994     3913.000000\n",
       "1995     4083.875000\n",
       "1996     5138.812500\n",
       "1997     6831.312500\n",
       "1998    10791.875000\n",
       "1999     2786.437500\n",
       "2000    13841.668750\n",
       "2001    20091.941176\n",
       "2002    18951.764706\n",
       "2003    22147.529412\n",
       "2004    25128.058824\n",
       "2005    29978.470588\n",
       "2006    39134.941176\n",
       "2007    44567.529412\n",
       "2008    54533.529412\n",
       "2009    55141.058824\n",
       "2010    61296.941176\n",
       "2011    79052.294118\n",
       "2012             NaN\n",
       "2013             NaN\n",
       "Name: nilai, dtype: float64"
      ]
     },
     "execution_count": 23,
     "metadata": {},
     "output_type": "execute_result"
    }
   ],
   "source": [
    "# Rata-rata realisasi belanja per tahun\n",
    "\n",
    "real_apbn.groupby('tahun').nilai.mean()"
   ]
  },
  {
   "cell_type": "code",
   "execution_count": 26,
   "metadata": {},
   "outputs": [
    {
     "data": {
      "text/plain": [
       "tahun  pos_belanja                                         tipe_pengeluaran                     \n",
       "1990   Anggaran Belanja untuk Daerah / Transfer ke Daerah  Dana Otonomi Khusus dan Penyeimbangan         0.0\n",
       "                                                           Dana Perimbangan                           6888.0\n",
       "       Belanja Pemerintah Pusat                            Pengeluaran Pembangunan                   14987.0\n",
       "                                                           Pengeluaran Rutin                         17880.0\n",
       "       Suspen                                              Suspen                                        0.0\n",
       "1991   Anggaran Belanja untuk Daerah / Transfer ke Daerah  Dana Otonomi Khusus dan Penyeimbangan         0.0\n",
       "                                                           Dana Perimbangan                           8490.0\n",
       "       Belanja Pemerintah Pusat                            Pengeluaran Pembangunan                   18662.0\n",
       "                                                           Pengeluaran Rutin                         17431.0\n",
       "       Suspen                                              Suspen                                        0.0\n",
       "1992   Anggaran Belanja untuk Daerah / Transfer ke Daerah  Dana Otonomi Khusus dan Penyeimbangan         0.0\n",
       "                                                           Dana Perimbangan                          10419.0\n",
       "       Belanja Pemerintah Pusat                            Pengeluaran Pembangunan                   21695.0\n",
       "                                                           Pengeluaran Rutin                         19934.0\n",
       "       Suspen                                              Suspen                                        0.0\n",
       "1993   Anggaran Belanja untuk Daerah / Transfer ke Daerah  Dana Otonomi Khusus dan Penyeimbangan         0.0\n",
       "                                                           Dana Perimbangan                          12425.0\n",
       "       Belanja Pemerintah Pusat                            Pengeluaran Pembangunan                   22738.0\n",
       "                                                           Pengeluaran Rutin                         22671.0\n",
       "       Suspen                                              Suspen                                        0.0\n",
       "1994   Anggaran Belanja untuk Daerah / Transfer ke Daerah  Dana Otonomi Khusus dan Penyeimbangan         0.0\n",
       "                                                           Dana Perimbangan                          14625.0\n",
       "       Belanja Pemerintah Pusat                            Pengeluaran Pembangunan                   22524.0\n",
       "                                                           Pengeluaran Rutin                         25459.0\n",
       "       Suspen                                              Suspen                                        0.0\n",
       "1995   Anggaran Belanja untuk Daerah / Transfer ke Daerah  Dana Otonomi Khusus dan Penyeimbangan         0.0\n",
       "                                                           Dana Perimbangan                          15439.0\n",
       "       Belanja Pemerintah Pusat                            Pengeluaran Pembangunan                   21426.0\n",
       "                                                           Pengeluaran Rutin                         28477.0\n",
       "       Suspen                                              Suspen                                        0.0\n",
       "                                                                                                      ...   \n",
       "2008   Anggaran Belanja untuk Daerah / Transfer ke Daerah  Dana Otonomi Khusus dan Penyeimbangan     13719.0\n",
       "                                                           Dana Perimbangan                         278714.0\n",
       "       Belanja Pemerintah Pusat                            Pengeluaran Pembangunan                       0.0\n",
       "                                                           Pengeluaran Rutin                        693358.0\n",
       "       Suspen                                              Suspen                                   -58721.0\n",
       "2009   Anggaran Belanja untuk Daerah / Transfer ke Daerah  Dana Otonomi Khusus dan Penyeimbangan     21334.0\n",
       "                                                           Dana Perimbangan                         287251.0\n",
       "       Belanja Pemerintah Pusat                            Pengeluaran Pembangunan                       0.0\n",
       "                                                           Pengeluaran Rutin                        628813.0\n",
       "       Suspen                                              Suspen                                        0.0\n",
       "2010   Anggaran Belanja untuk Daerah / Transfer ke Daerah  Dana Otonomi Khusus dan Penyeimbangan     28016.0\n",
       "                                                           Dana Perimbangan                         316712.0\n",
       "       Belanja Pemerintah Pusat                            Pengeluaran Pembangunan                       0.0\n",
       "                                                           Pengeluaran Rutin                        697337.0\n",
       "       Suspen                                              Suspen                                      -17.0\n",
       "2011   Anggaran Belanja untuk Daerah / Transfer ke Daerah  Dana Otonomi Khusus dan Penyeimbangan     64079.0\n",
       "                                                           Dana Perimbangan                         347247.0\n",
       "       Belanja Pemerintah Pusat                            Pengeluaran Pembangunan                       0.0\n",
       "                                                           Pengeluaran Rutin                        932611.0\n",
       "       Suspen                                              Suspen                                      -48.0\n",
       "2012   Anggaran Belanja untuk Daerah / Transfer ke Daerah  Dana Otonomi Khusus dan Penyeimbangan         0.0\n",
       "                                                           Dana Perimbangan                              0.0\n",
       "       Belanja Pemerintah Pusat                            Pengeluaran Pembangunan                       0.0\n",
       "                                                           Pengeluaran Rutin                             0.0\n",
       "       Suspen                                              Suspen                                        0.0\n",
       "2013   Anggaran Belanja untuk Daerah / Transfer ke Daerah  Dana Otonomi Khusus dan Penyeimbangan         0.0\n",
       "                                                           Dana Perimbangan                              0.0\n",
       "       Belanja Pemerintah Pusat                            Pengeluaran Pembangunan                       0.0\n",
       "                                                           Pengeluaran Rutin                             0.0\n",
       "       Suspen                                              Suspen                                        0.0\n",
       "Name: nilai, Length: 120, dtype: float64"
      ]
     },
     "execution_count": 26,
     "metadata": {},
     "output_type": "execute_result"
    }
   ],
   "source": [
    "# TOtal realisasi belanja per tahun, pos pengeluaran dan tipe pengeluaran\n",
    "\n",
    "real_apbn.groupby(['tahun','pos_belanja','tipe_pengeluaran']).nilai.sum()"
   ]
  },
  {
   "cell_type": "markdown",
   "metadata": {},
   "source": [
    "# 3. Visualisasi Data\n",
    "\n",
    "Pada bagian ini akan disajikan beberapa visualisasi yang terkait dengan data, diantaranya adalah:\n",
    "\n",
    "* Trend Total Realisasi Belanja per Tahun\n",
    "* Perbandingan Total untuk daerah selama periode 1990-2011 berdasar pos pengeluaran\n",
    "* Perbandingan Total selama periode 1990-2011 berdasar tipe pengeluaran"
   ]
  },
  {
   "cell_type": "code",
   "execution_count": 31,
   "metadata": {},
   "outputs": [
    {
     "data": {
      "text/plain": [
       "Text(0,0.5,'Jumlah')"
      ]
     },
     "execution_count": 31,
     "metadata": {},
     "output_type": "execute_result"
    },
    {
     "data": {
      "image/png": "[encoded data removed]",
      "text/plain": [
       "<Figure size 432x288 with 1 Axes>"
      ]
     },
     "metadata": {
      "needs_background": "light"
     },
     "output_type": "display_data"
    }
   ],
   "source": [
    "# Trend Total Realisasi Belanja per Tahun\n",
    "\n",
    "ax = real_apbn[real_apbn['tahun']<2012].groupby('tahun').nilai.sum()\n",
    "ax = ax.plot(kind='line', title =\"Total Berdasarkan Tahun\", figsize , legend=True, fontsize=12)\n",
    "ax.set_xlabel(\"Tahun\", fontsize=12)\n",
    "ax.set_ylabel(\"Jumlah\", fontsize=12)"
   ]
  }
 ],
 "metadata": {
  "kernelspec": {
   "display_name": "Python 3",
   "language": "python",
   "name": "python3"
  },
  "language_info": {
   "codemirror_mode": {
    "name": "ipython",
    "version": 3
   },
   "file_extension": ".py",
   "mimetype": "text/x-python",
   "name": "python",
   "nbconvert_exporter": "python",
   "pygments_lexer": "ipython3",
   "version": "3.7.0"
  }
 },
 "nbformat": 4,
 "nbformat_minor": 2
}
