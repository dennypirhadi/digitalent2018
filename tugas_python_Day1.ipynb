{
 "cells": [
  {
   "cell_type": "markdown",
   "metadata": {},
   "source": [
    "## Exercise 1: Performing calculation based on case\n",
    "\n",
    "Pada keluaran buku terbaru, Harry Potter harga buku adalah Rp 100.000, tetapi toko buku mendapatkan diskon 40%. Pengiriman biaya Rp 9.000 untuk salinan pertama dan Rp 3.000 untuk setiap salinan tambahan. Berapa total biaya keseluruhan untuk pengiriman buku 60 eksemplar?"
   ]
  },
  {
   "cell_type": "code",
   "execution_count": 4,
   "metadata": {},
   "outputs": [
    {
     "name": "stdout",
     "output_type": "stream",
     "text": [
      "3786000.0\n"
     ]
    }
   ],
   "source": [
    "jml_kiriman = 60\n",
    "hrga = 100000\n",
    "disc = 0.4\n",
    "hrga_nett = hrga*(1-disc)\n",
    "hrga_total = jml_kiriman*hrga_nett\n",
    "ongkir_awal = 9000\n",
    "ongkir_tamb = 3000\n",
    "ongkir_total = ongkir_awal + ongkir_tamb * (jml_kiriman-1)\n",
    "\n",
    "biaya = hrga_total+ongkir_total\n",
    "\n",
    "print(biaya)"
   ]
  },
  {
   "cell_type": "markdown",
   "metadata": {},
   "source": [
    "## Exercise 2: Calculating BMI and Classifying the result\n",
    "Categorized the BMI of a person according with the weight (kg) and height (m)"
   ]
  },
  {
   "cell_type": "code",
   "execution_count": 3,
   "metadata": {},
   "outputs": [
    {
     "name": "stdout",
     "output_type": "stream",
     "text": [
      "25.21735857578381\n",
      "Overweight\n"
     ]
    }
   ],
   "source": [
    "weight = 67\n",
    "height_cm = 163\n",
    "height_m = height_cm/100\n",
    "\n",
    "bmi = weight / height_m**2\n",
    "\n",
    "print(bmi)\n",
    "\n",
    "if bmi>=40:\n",
    "    print(\"Very severely obese\")\n",
    "elif bmi>=35:\n",
    "    print(\"Severely obese\")\n",
    "elif bmi>=30:\n",
    "    print(\"Moderately obese\")\n",
    "elif bmi>=25:\n",
    "    print(\"Overweight\")\n",
    "elif bmi>=18.5:\n",
    "    print(\"Normal\")\n",
    "elif bmi>=16:\n",
    "    print(\"Underweight\")\n",
    "elif bmi>=15:\n",
    "    print(\"Severely Underweight\")\n",
    "else:\n",
    "    print(\"Very Severely Underweight\")"
   ]
  }
 ],
 "metadata": {
  "kernelspec": {
   "display_name": "Python 3",
   "language": "python",
   "name": "python3"
  },
  "language_info": {
   "codemirror_mode": {
    "name": "ipython",
    "version": 3
   },
   "file_extension": ".py",
   "mimetype": "text/x-python",
   "name": "python",
   "nbconvert_exporter": "python",
   "pygments_lexer": "ipython3",
   "version": "3.7.0"
  }
 },
 "nbformat": 4,
 "nbformat_minor": 2
}
