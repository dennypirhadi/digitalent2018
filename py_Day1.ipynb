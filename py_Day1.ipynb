{
 "cells": [
  {
   "cell_type": "markdown",
   "metadata": {},
   "source": [
    "# 1. Sintaks Dasar\n",
    "Print adalah sebuah syntax dasar untuk mengeluarkan output. Untuk run code di jupyter notebook tekan Shift+Enter"
   ]
  },
  {
   "cell_type": "code",
   "execution_count": 4,
   "metadata": {},
   "outputs": [
    {
     "name": "stdout",
     "output_type": "stream",
     "text": [
      "Hello Py\n"
     ]
    }
   ],
   "source": [
    "print(\"Hello Py\")"
   ]
  },
  {
   "cell_type": "code",
   "execution_count": 3,
   "metadata": {},
   "outputs": [
    {
     "name": "stdout",
     "output_type": "stream",
     "text": [
      "Denny Pirhadi\n"
     ]
    }
   ],
   "source": [
    "nama = \"Denny SP\"\n",
    "nama = \"Denny Pirhadi\"\n",
    "\n",
    "print(nama)"
   ]
  },
  {
   "cell_type": "code",
   "execution_count": 7,
   "metadata": {},
   "outputs": [
    {
     "name": "stdout",
     "output_type": "stream",
     "text": [
      "5\n",
      "10.99\n",
      "Denny\n"
     ]
    }
   ],
   "source": [
    "a,b,c = 5, 10.99, \"Denny\"\n",
    "\n",
    "print(a)\n",
    "print(b)\n",
    "print(c)"
   ]
  },
  {
   "cell_type": "code",
   "execution_count": 8,
   "metadata": {},
   "outputs": [
    {
     "name": "stdout",
     "output_type": "stream",
     "text": [
      "Nilai sama Nilai sama Nilai sama\n"
     ]
    }
   ],
   "source": [
    "x = y = z = \"Nilai sama\"\n",
    "\n",
    "print(x, y, z)\n"
   ]
  },
  {
   "cell_type": "code",
   "execution_count": 9,
   "metadata": {},
   "outputs": [
    {
     "name": "stdout",
     "output_type": "stream",
     "text": [
      "5 mempunyai tipe <class 'int'>\n",
      "2.0 mempunyai tipe <class 'float'>\n"
     ]
    }
   ],
   "source": [
    "a = 5\n",
    "print(a, \"mempunyai tipe\", type(a))\n",
    "\n",
    "a = 2.0\n",
    "print(a, \"mempunyai tipe\", type(a))"
   ]
  },
  {
   "cell_type": "code",
   "execution_count": 10,
   "metadata": {},
   "outputs": [
    {
     "name": "stdout",
     "output_type": "stream",
     "text": [
      "False mempunyai tipe <class 'bool'>\n",
      "True mempunyai tipe <class 'bool'>\n"
     ]
    }
   ],
   "source": [
    "a = 5>6\n",
    "print(a, \"mempunyai tipe\", type(a))\n",
    "\n",
    "a = 6>5\n",
    "print(a, \"mempunyai tipe\", type(a))"
   ]
  },
  {
   "cell_type": "code",
   "execution_count": 11,
   "metadata": {},
   "outputs": [
    {
     "name": "stdout",
     "output_type": "stream",
     "text": [
      "Ini adalah sebuah string mempunyai tipe <class 'str'>\n"
     ]
    }
   ],
   "source": [
    "a = \"Ini adalah sebuah string\"\n",
    "print(a, \"mempunyai tipe\", type(a))"
   ]
  },
  {
   "cell_type": "code",
   "execution_count": 16,
   "metadata": {},
   "outputs": [
    {
     "name": "stdout",
     "output_type": "stream",
     "text": [
      "x =  17\n",
      "y =  4\n",
      "x + y = 21\n",
      "x - y = 13\n",
      "x * y = 68\n",
      "x / y = 4.25\n",
      "x // y = 4\n",
      "x % y = 1\n",
      "x ** y = 83521\n"
     ]
    }
   ],
   "source": [
    "x = 17\n",
    "print(\"x = \", x)\n",
    "\n",
    "y = 4\n",
    "print(\"y = \", y)\n",
    "\n",
    "# Output: x + y = 19\n",
    "print('x + y =',x+y)\n",
    "\n",
    "# Output: x - y = 11\n",
    "print('x - y =',x-y)\n",
    "\n",
    "# Output: x * y = 60\n",
    "print('x * y =',x*y)\n",
    "\n",
    "# Output: x / y = 3.75\n",
    "print('x / y =',x/y)\n",
    "\n",
    "# Output: x // y = 3\n",
    "print('x // y =',x//y)\n",
    "\n",
    "# Output: x % y = 3 - mod\n",
    "print('x % y =', x%y)\n",
    "\n",
    "# Output: x ** y = 50625\n",
    "print('x ** y =',x**y)"
   ]
  },
  {
   "cell_type": "code",
   "execution_count": 17,
   "metadata": {},
   "outputs": [
    {
     "name": "stdout",
     "output_type": "stream",
     "text": [
      "11\n",
      "55\n",
      "5\n"
     ]
    }
   ],
   "source": [
    "a = 5\n",
    "b = 2\n",
    "a = a + 6\n",
    "print(a)\n",
    "a = a * 5\n",
    "print(a)\n",
    "a = b + 3\n",
    "print(a)"
   ]
  },
  {
   "cell_type": "code",
   "execution_count": 21,
   "metadata": {},
   "outputs": [
    {
     "name": "stdout",
     "output_type": "stream",
     "text": [
      "3786000.0\n"
     ]
    }
   ],
   "source": [
    "jml_kiriman = 60\n",
    "hrga = 100000\n",
    "disc = 0.4\n",
    "hrga_nett = hrga*(1-disc)\n",
    "hrga_total = jml_kiriman*hrga_nett\n",
    "ongkir_awal = 9000\n",
    "ongkir_tamb = 3000\n",
    "ongkir_total = ongkir_awal + ongkir_tamb * (jml_kiriman-1)\n",
    "\n",
    "biaya = hrga_total+ongkir_total\n",
    "\n",
    "print(biaya)"
   ]
  },
  {
   "cell_type": "code",
   "execution_count": 23,
   "metadata": {},
   "outputs": [
    {
     "name": "stdout",
     "output_type": "stream",
     "text": [
      "x =  10  y =  12\n",
      "x > y  is False\n",
      "x < y  is True\n",
      "x == y is False\n",
      "x != y is True\n",
      "x >= y is False\n",
      "x <= y is True\n"
     ]
    }
   ],
   "source": [
    "x = 10\n",
    "y = 12\n",
    "\n",
    "print('x = ', x, ' y = ', y\n",
    "x = 5 == 5\n",
    "y = 1 > 2\n",
    "\n",
    "\n",
    "print('x and y is',x and y)\n",
    "\n",
    "print('x or y is',x or y)\n",
    "\n",
    "print('not x is',not x))\n",
    "\n",
    "print('x > y  is',x>y)\n",
    "\n",
    "print('x < y  is',x<y)\n",
    "\n",
    "print('x == y is',x==y)\n",
    "\n",
    "print('x != y is',x!=y)\n",
    "\n",
    "print('x >= y is',x>=y)\n",
    "print('x <= y is',x<=y)"
   ]
  },
  {
   "cell_type": "code",
   "execution_count": 24,
   "metadata": {},
   "outputs": [
    {
     "name": "stdout",
     "output_type": "stream",
     "text": [
      "x and y is False\n",
      "x or y is True\n",
      "not x is False\n"
     ]
    }
   ],
   "source": [
    "x = 5 == 5\n",
    "y = 1 > 2\n",
    "\n",
    "print('x and y is',x and y)\n",
    "\n",
    "print('x or y is',x or y)\n",
    "\n",
    "print('not x is',not x)"
   ]
  },
  {
   "cell_type": "code",
   "execution_count": 34,
   "metadata": {},
   "outputs": [
    {
     "name": "stdout",
     "output_type": "stream",
     "text": [
      "Lulus\n",
      "Selamat\n",
      "wakakak\n",
      "Program Selesai\n"
     ]
    }
   ],
   "source": [
    "nilai = 91 # Coba dirubah menjadi 80\n",
    "if nilai>90:\n",
    "    print(\"Lulus\")\n",
    "    print(\"Selamat\")\n",
    "    print(\"wakakak\")\n",
    "    \n",
    "print(\"Program Selesai\")"
   ]
  },
  {
   "cell_type": "code",
   "execution_count": 30,
   "metadata": {},
   "outputs": [
    {
     "name": "stdout",
     "output_type": "stream",
     "text": [
      "Anda masuk ke waiting list\n",
      "Program Selesai\n"
     ]
    }
   ],
   "source": [
    "nilai = 85 \n",
    "if nilai>90:\n",
    "    print(\"Lulus\")\n",
    "    print(\"Selamat\")\n",
    "elif nilai>80:\n",
    "    print(\"Anda masuk ke waiting list\")\n",
    "else:\n",
    "    print(\"Maaf Anda Belum Berhasil\")\n",
    "\n",
    "print(\"Program Selesai\")"
   ]
  },
  {
   "cell_type": "code",
   "execution_count": 31,
   "metadata": {},
   "outputs": [
    {
     "name": "stdout",
     "output_type": "stream",
     "text": [
      "Maaf, Anda belum berhak mengikuti program beasiswa\n",
      "Program Selesai\n"
     ]
    }
   ],
   "source": [
    "nilai = 95\n",
    "umur = 10\n",
    "\n",
    "if nilai>90:\n",
    "    if umur > 17:\n",
    "        print(\"Selamat Anda Berhak Mengikuti Program Beasiswa\")\n",
    "    else:\n",
    "        print(\"Maaf, Anda belum berhak mengikuti program beasiswa\")\n",
    "else:\n",
    "    print(\"Maaf Anda Belum Berhasil\")\n",
    "    \n",
    "print(\"Program Selesai\")"
   ]
  },
  {
   "cell_type": "code",
   "execution_count": 46,
   "metadata": {},
   "outputs": [
    {
     "name": "stdout",
     "output_type": "stream",
     "text": [
      "25.21735857578381\n",
      "Overweight\n"
     ]
    }
   ],
   "source": [
    "berat = 67\n",
    "tinggi_cm = 163\n",
    "tinggi_m = tinggi_cm/100\n",
    "\n",
    "bmi = berat / tinggi_m**2\n",
    "\n",
    "print(bmi)\n",
    "\n",
    "if bmi>40:\n",
    "    print(\"Very severely obese\")\n",
    "elif bmi>=35:\n",
    "    print(\"Severely obese\")\n",
    "elif bmi>=30:\n",
    "    print(\"Moderately obese\")\n",
    "elif bmi>=25:\n",
    "    print(\"Overweight\")\n",
    "elif bmi>=18.5:\n",
    "    print(\"Normal\")\n",
    "elif bmi>=16:\n",
    "    print(\"Underweight\")\n",
    "elif bmi>=15:\n",
    "    print(\"Severely Underweight\")\n",
    "else:\n",
    "    print(\"Very Severely Underweight\")\n"
   ]
  }
 ],
 "metadata": {
  "kernelspec": {
   "display_name": "Python 3",
   "language": "python",
   "name": "python3"
  },
  "language_info": {
   "codemirror_mode": {
    "name": "ipython",
    "version": 3
   },
   "file_extension": ".py",
   "mimetype": "text/x-python",
   "name": "python",
   "nbconvert_exporter": "python",
   "pygments_lexer": "ipython3",
   "version": "3.7.0"
  }
 },
 "nbformat": 4,
 "nbformat_minor": 2
}
