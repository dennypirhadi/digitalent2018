{
 "cells": [
  {
   "cell_type": "markdown",
   "metadata": {},
   "source": [
    "# 1. Fungsi / Subprogram\n",
    "Fungsi / Subprogram digunakan untuk mengelompokkan beberapa syntaks dalam satu group statement. Pada umumnya kelompok statement ini sering dikerjakan berulang kali. Ketika program kita sudah cukup besar, fungsi dapat digunakan untuk mem breakdown potongan-potongan kode agar menjadi beberapa kesatuan kecil.\n",
    "\n",
    "## 1.1 Deklarasi Fungsi\n",
    "Berikut diberikan contoh untuk mendeklarasikan fungsi bernama hello, yang menerima parameter berupa bilangan n. Tujuan dari fungsi ini akan mengoutputkan kata \"hello\" sebanyak n kali"
   ]
  },
  {
   "cell_type": "code",
   "execution_count": 3,
   "metadata": {},
   "outputs": [],
   "source": [
    "def hello(n):\n",
    "    for i in range(n):\n",
    "        print(\"hello\")"
   ]
  },
  {
   "cell_type": "markdown",
   "metadata": {},
   "source": [
    "## 1.2 Pemanggilan Fungsi"
   ]
  },
  {
   "cell_type": "code",
   "execution_count": 4,
   "metadata": {},
   "outputs": [
    {
     "name": "stdout",
     "output_type": "stream",
     "text": [
      "hello\n",
      "hello\n",
      "hello\n",
      "hello\n",
      "hello\n",
      "hello\n",
      "hello\n",
      "hello\n",
      "hello\n",
      "hello\n"
     ]
    }
   ],
   "source": [
    "hello(10)"
   ]
  },
  {
   "cell_type": "markdown",
   "metadata": {},
   "source": [
    "## 1.3 Fungsi yang Mengirimkan Kembalian Nilai\n",
    "Dalam contoh fungsi yang pertama, fungsi tersebut hanya menjalankan sebuah perintah. Namun fungsi juga seringkali digunakan untuk melakukan perhitungan dan kemudian nilainya dipergunakan dalam proses selanjutnya. seperti contoh berikut:"
   ]
  },
  {
   "cell_type": "code",
   "execution_count": 5,
   "metadata": {},
   "outputs": [],
   "source": [
    "def faktorial(n):\n",
    "    i = 1\n",
    "    result = 1\n",
    "    while i<n:\n",
    "        result = result * n\n",
    "        n = n - 1\n",
    "\n",
    "    return result"
   ]
  },
  {
   "cell_type": "code",
   "execution_count": 6,
   "metadata": {},
   "outputs": [
    {
     "name": "stdout",
     "output_type": "stream",
     "text": [
      "12\n",
      "120\n"
     ]
    }
   ],
   "source": [
    "hasil = faktorial(2) * faktorial(3)\n",
    "print(hasil)\n",
    "\n",
    "hasil = faktorial(5)\n",
    "print(hasil)"
   ]
  },
  {
   "cell_type": "markdown",
   "metadata": {},
   "source": [
    "# 2. FILE INPUT OUTPUT\n",
    "Seringkali kita ingin menyimpan hasil output dari program ke dalam sebuah File, ataupun membaca data yang ada dari file. Python menyediakan fungsi untuk hal ini\n",
    "\n",
    "# 2.1 Menulis ke File\n",
    "Dalam penulisan ke file, awalnya kita harus membuat / membuka sebuah file dengan mode 'w' atau write. Kemudian kita bisa memasukkan teks ke dalam file tersebut. Setelah selesai menulis, kita bisa close file tersebut. Kalian bisa mengeceknya dalam folder yang sama dengan ipynb ini, apakah file sudah terbuat"
   ]
  },
  {
   "cell_type": "code",
   "execution_count": 10,
   "metadata": {},
   "outputs": [],
   "source": [
    "f = open('data.txt','w')\n",
    "f.write('Hello World!\\n')\n",
    "f.write(\"This is our new text file \\n\")\n",
    "f.write(\"new line of text \\n\")\n",
    "f.close()"
   ]
  },
  {
   "cell_type": "markdown",
   "metadata": {},
   "source": [
    "## 2.2 Membaca dari File "
   ]
  },
  {
   "cell_type": "code",
   "execution_count": 13,
   "metadata": {},
   "outputs": [
    {
     "name": "stdout",
     "output_type": "stream",
     "text": [
      "----\n",
      "HELLO WORLD!\n",
      "\n",
      "----\n",
      "THIS IS OUR NEW TEXT FILE \n",
      "\n",
      "----\n",
      "NEW LINE OF TEXT \n",
      "\n"
     ]
    }
   ],
   "source": [
    "fo = open('data.txt','r')\n",
    "for line in fo:\n",
    "    print('----')\n",
    "    print(line.upper())\n",
    "fo.close()"
   ]
  },
  {
   "cell_type": "markdown",
   "metadata": {},
   "source": [
    "# 3. Import\n",
    "Seringkali kita tidak perlu melakukan implementasi ulang terhadap banyak kasus seperti analisa statistik sederhana, melakukan random, fungsi matematika sederhana sampai yang kompleks, dan lain sebagainya. Kita bisa menggunakan module / library yang telah disediakan oleh python ataupun library yang telah dibuat oleh orang"
   ]
  },
  {
   "cell_type": "code",
   "execution_count": 14,
   "metadata": {},
   "outputs": [
    {
     "name": "stdout",
     "output_type": "stream",
     "text": [
      "0.33620843802321476\n",
      "3\n"
     ]
    }
   ],
   "source": [
    "import random\n",
    "r = random.random()\n",
    "print(r)\n",
    "r = random.randint(1,10)\n",
    "print(r)"
   ]
  },
  {
   "cell_type": "code",
   "execution_count": 15,
   "metadata": {},
   "outputs": [
    {
     "name": "stdout",
     "output_type": "stream",
     "text": [
      "4.714285714285714 3 1 5.437961803049794 29.571428571428566\n"
     ]
    }
   ],
   "source": [
    "import statistics\n",
    "\n",
    "a = [0, 1, 1, 3, 4, 9, 15]\n",
    "\n",
    "b = statistics.mean(a)\n",
    "c = statistics.median(a)\n",
    "d = statistics.mode(a)\n",
    "e = statistics.stdev(a)\n",
    "f = statistics.variance(a)\n",
    "\n",
    "print(b,c,d,e,f)"
   ]
  }
 ],
 "metadata": {
  "kernelspec": {
   "display_name": "Python 3",
   "language": "python",
   "name": "python3"
  },
  "language_info": {
   "codemirror_mode": {
    "name": "ipython",
    "version": 3
   },
   "file_extension": ".py",
   "mimetype": "text/x-python",
   "name": "python",
   "nbconvert_exporter": "python",
   "pygments_lexer": "ipython3",
   "version": "3.7.0"
  }
 },
 "nbformat": 4,
 "nbformat_minor": 2
}
