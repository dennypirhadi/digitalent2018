{
 "cells": [
  {
   "cell_type": "code",
   "execution_count": 1,
   "metadata": {},
   "outputs": [
    {
     "name": "stdout",
     "output_type": "stream",
     "text": [
      "0\n",
      "1\n",
      "2\n",
      "3\n",
      "4\n",
      "5\n",
      "6\n",
      "7\n",
      "8\n",
      "9\n"
     ]
    }
   ],
   "source": [
    "i = 0\n",
    "while (i<10):\n",
    "    print(i)\n",
    "    i = i + 1"
   ]
  },
  {
   "cell_type": "code",
   "execution_count": 11,
   "metadata": {},
   "outputs": [
    {
     "name": "stdout",
     "output_type": "stream",
     "text": [
      "[30, 40, 50, 60, 70, 80, 90]\n",
      "90\n",
      "Big\n",
      "[30, 40, 60, 70, 80, 'Big', 11, 22]\n"
     ]
    }
   ],
   "source": [
    "nilai = [30,40,50,60,70,80,90]\n",
    "print(nilai)\n",
    "print(nilai[-1])\n",
    "\n",
    "nilai.append(\"Big\") #nambah satu element\n",
    "print(nilai[-1])\n",
    "\n",
    "nilai2 = [11,22]\n",
    "\n",
    "nilai.extend(nilai2) #nambah satu list\n",
    "\n",
    "del nilai[-4] #hapus generic\n",
    "\n",
    "nilai.pop(2) #hapus list sesuai index\n",
    "\n",
    "print(nilai)"
   ]
  },
  {
   "cell_type": "code",
   "execution_count": 17,
   "metadata": {},
   "outputs": [
    {
     "name": "stdout",
     "output_type": "stream",
     "text": [
      "[50, 60, 70]\n",
      "[30, 40, 50, 60, 70]\n",
      "[80, 90]\n",
      "[30, 40, 50, 60, 70, 80, 90]\n",
      "[80, 90]\n"
     ]
    }
   ],
   "source": [
    "nilai = [30,40,50,60,70,80,90]\n",
    "\n",
    "#slice elemen ke 3 sampai ke 5\n",
    "print(nilai[2:5])\n",
    "\n",
    "#slice menghilangkan mengambil dari awal dan menghilangkan 2 elemen terakhir\n",
    "print(nilai[:-2])\n",
    "\n",
    "#slice mengambil dari elemen ke-6 hingga terakhir\n",
    "print(nilai[5:])\n",
    "\n",
    "#tidak ada yang dihilangkan\n",
    "print(nilai[:])\n",
    "\n",
    "#\n",
    "print(nilai[-2:])"
   ]
  },
  {
   "cell_type": "markdown",
   "metadata": {},
   "source": [
    "# Perulangan dalam List (Loop)\n",
    "\n",
    "Dalam mengakses setiap elemen dalam list, kita dapat menggunakan syntax perulangan"
   ]
  },
  {
   "cell_type": "code",
   "execution_count": 19,
   "metadata": {},
   "outputs": [
    {
     "name": "stdout",
     "output_type": "stream",
     "text": [
      "900\n",
      "1600\n",
      "2500\n",
      "3600\n",
      "4900\n",
      "6400\n",
      "8100\n",
      "0 30\n",
      "1 40\n",
      "2 50\n",
      "3 60\n",
      "4 70\n",
      "5 80\n",
      "6 90\n"
     ]
    }
   ],
   "source": [
    "for n in nilai:\n",
    "    print(n**2)\n",
    "\n",
    "#mengikutkan indeks-nya\n",
    "for i,n in enumerate(nilai):\n",
    "    print(i,n)"
   ]
  },
  {
   "cell_type": "markdown",
   "metadata": {},
   "source": [
    "## Contoh\n",
    "\n",
    "Rata-rata nilai dalam list"
   ]
  },
  {
   "cell_type": "code",
   "execution_count": 20,
   "metadata": {},
   "outputs": [
    {
     "name": "stdout",
     "output_type": "stream",
     "text": [
      "60.0\n"
     ]
    }
   ],
   "source": [
    "total = 0\n",
    "for n in nilai:\n",
    "    total = total + n\n",
    "\n",
    "rata = total / len(nilai) #len -> jumlah elemen dalam list\n",
    "print(rata)"
   ]
  },
  {
   "cell_type": "markdown",
   "metadata": {},
   "source": [
    "# Lookup Nilai dalam list"
   ]
  },
  {
   "cell_type": "code",
   "execution_count": 23,
   "metadata": {},
   "outputs": [
    {
     "name": "stdout",
     "output_type": "stream",
     "text": [
      "Nilai 91 tidak ada di dalam list\n"
     ]
    }
   ],
   "source": [
    "n = 91\n",
    "\n",
    "if n in nilai:\n",
    "    print(\"Nilai\", n, \"ada di dalam list\")\n",
    "else:\n",
    "    print(\"Nilai\", n, \"tidak ada di dalam list\")"
   ]
  },
  {
   "cell_type": "markdown",
   "metadata": {},
   "source": [
    "# Latihan\n",
    "Tampilkan nilai dari list nilai yang lebih dari sama dengan nilai rata-ratanya"
   ]
  },
  {
   "cell_type": "code",
   "execution_count": 27,
   "metadata": {},
   "outputs": [
    {
     "name": "stdout",
     "output_type": "stream",
     "text": [
      "[60, 70, 80, 90]\n"
     ]
    }
   ],
   "source": [
    "total = 0\n",
    "\n",
    "for n in nilai:\n",
    "    total = total + n\n",
    "\n",
    "rata = total / len(nilai)\n",
    "\n",
    "nilai_gt_rata = []\n",
    "\n",
    "for n in nilai:\n",
    "    if n>=rata:\n",
    "        nilai_gt_rata.append(n)\n",
    "\n",
    "print(nilai_gt_rata)"
   ]
  },
  {
   "cell_type": "markdown",
   "metadata": {},
   "source": [
    "tugas = [66,77,88,99,55,44]\n",
    "Tampilkan nilai dari list tugas yang genap"
   ]
  },
  {
   "cell_type": "code",
   "execution_count": 29,
   "metadata": {},
   "outputs": [
    {
     "name": "stdout",
     "output_type": "stream",
     "text": [
      "[66, 88, 44]\n"
     ]
    }
   ],
   "source": [
    "tugas = [66,77,88,99,55,44]\n",
    "genap = []\n",
    "\n",
    "for n in tugas:\n",
    "    if n%2==0:\n",
    "        genap.append(n)\n",
    "       # print(\"blok if\")    \n",
    "    #print(\"blok for\")\n",
    "\n",
    "print(genap)"
   ]
  },
  {
   "cell_type": "markdown",
   "metadata": {},
   "source": [
    "# Tuple\n",
    "\n",
    "Tuple merupakan tipe data yang mirip dengan list, namun bersifat immutable\n",
    "Pengaksesan lebih cepat"
   ]
  },
  {
   "cell_type": "code",
   "execution_count": 31,
   "metadata": {},
   "outputs": [
    {
     "name": "stdout",
     "output_type": "stream",
     "text": [
      "Maret\n"
     ]
    }
   ],
   "source": [
    "bulan = (\"Januari\", \"Februari\", \"Maret\", \"April\", \"Mei\", \"Juni\", \"Juli\", \"Agustus\", \"September\", \"Agustus\", \"September\", \"Oktober\", \"November\", \"Desember\")\n",
    "print(bulan[2])"
   ]
  },
  {
   "cell_type": "markdown",
   "metadata": {},
   "source": [
    "# Dictionary\n",
    "\n",
    "Pair Key and Value"
   ]
  },
  {
   "cell_type": "code",
   "execution_count": 38,
   "metadata": {},
   "outputs": [
    {
     "name": "stdout",
     "output_type": "stream",
     "text": [
      "{'Nama': 'Budi', 'Umur': 7, 'Jenis Kelamin': 'Laki-laki'}\n",
      "Budi\n",
      "{'Nama': 'Ani', 'Umur': 8, 'Jenis Kelamin': 'Perempuan'}\n"
     ]
    }
   ],
   "source": [
    "siswa = {'Nama':'Budi', 'Umur':7, 'Jenis Kelamin':'Laki-laki'}\n",
    "siswa2 = {'Nama':'Ani', 'Umur':8, 'Jenis Kelamin':'Perempuan'}\n",
    "\n",
    "print(siswa)\n",
    "print(siswa['Nama'])\n",
    "\n",
    "list_siswa = []\n",
    "list_siswa.append(siswa)\n",
    "list_siswa.append(siswa2)\n",
    "\n",
    "print(list_siswa[1])"
   ]
  },
  {
   "cell_type": "code",
   "execution_count": 39,
   "metadata": {},
   "outputs": [
    {
     "name": "stdout",
     "output_type": "stream",
     "text": [
      "Nama Budi\n",
      "Umur 7\n",
      "Jenis Kelamin Laki-laki\n"
     ]
    }
   ],
   "source": [
    "for k,v in siswa.items():\n",
    "    print(k,v)"
   ]
  },
  {
   "cell_type": "code",
   "execution_count": 40,
   "metadata": {},
   "outputs": [
    {
     "name": "stdout",
     "output_type": "stream",
     "text": [
      "{'Nama': 'Denny', 'Umur': 7, 'Jenis Kelamin': 'Laki-laki'}\n"
     ]
    }
   ],
   "source": [
    "#merubah value di dictionary based on key\n",
    "\n",
    "siswa[\"Nama\"] = 'Denny'\n",
    "print(siswa)"
   ]
  },
  {
   "cell_type": "code",
   "execution_count": 41,
   "metadata": {},
   "outputs": [
    {
     "name": "stdout",
     "output_type": "stream",
     "text": [
      "{'Nama': 'Denny', 'Umur': 7, 'Jenis Kelamin': 'Laki-laki', 'Alamat': 'Jakal km.5'}\n"
     ]
    }
   ],
   "source": [
    "#menambah elemen\n",
    "\n",
    "siswa[\"Alamat\"] = 'Jakal km.5'\n",
    "print(siswa)"
   ]
  },
  {
   "cell_type": "code",
   "execution_count": 43,
   "metadata": {},
   "outputs": [
    {
     "name": "stdout",
     "output_type": "stream",
     "text": [
      "{'Nama': 'Denny', 'Umur': 7, 'Jenis Kelamin': 'Laki-laki', 'Alamat': 'Jakal km.5', 'Nilai': [30, 40, 50, 60, 70, 80, 90]}\n",
      "30\n",
      "40\n",
      "50\n",
      "60\n",
      "70\n",
      "80\n",
      "90\n"
     ]
    }
   ],
   "source": [
    "#value-nya list\n",
    "\n",
    "siswa['Nilai'] = nilai\n",
    "print(siswa)\n",
    "\n",
    "for n in siswa['Nilai']:\n",
    "    print(n)"
   ]
  },
  {
   "cell_type": "code",
   "execution_count": 45,
   "metadata": {},
   "outputs": [
    {
     "name": "stdout",
     "output_type": "stream",
     "text": [
      "-------\n",
      "Nama Denny\n",
      "Umur 7\n",
      "Jenis Kelamin Laki-laki\n",
      "Alamat Jakal km.5\n",
      "Nilai [30, 40, 50, 60, 70, 80, 90]\n",
      "-------\n",
      "Nama Ani\n",
      "Umur 8\n",
      "Jenis Kelamin Perempuan\n"
     ]
    }
   ],
   "source": [
    "for l in list_siswa:\n",
    "    print('-------')\n",
    "    for k,v in l.items():\n",
    "        print(k,v)"
   ]
  },
  {
   "cell_type": "markdown",
   "metadata": {},
   "source": [
    "# Operasi String"
   ]
  },
  {
   "cell_type": "code",
   "execution_count": 50,
   "metadata": {},
   "outputs": [
    {
     "name": "stdout",
     "output_type": "stream",
     "text": [
      "Tutorial\n",
      "Python\n"
     ]
    }
   ],
   "source": [
    "nama = 'Tutorial Bahasa Pemograman Python'\n",
    "print(nama[0:8])\n",
    "print(nama[-6:])"
   ]
  },
  {
   "cell_type": "code",
   "execution_count": 54,
   "metadata": {},
   "outputs": [
    {
     "name": "stdout",
     "output_type": "stream",
     "text": [
      "['Tutorial', 'Bahasa', 'Pemograman', 'Python']\n",
      "Tutorial\n"
     ]
    }
   ],
   "source": [
    "kata = nama.split()\n",
    "print(kata)\n",
    "print(kata[0])"
   ]
  },
  {
   "cell_type": "code",
   "execution_count": 60,
   "metadata": {},
   "outputs": [
    {
     "name": "stdout",
     "output_type": "stream",
     "text": [
      "['Pada', 'hari', 'minggu', 'kuturut', 'ayah', 'ke', 'kota']\n",
      "['Naik', 'Delman', 'istimewa', 'kududuk', 'di', 'muka']\n",
      "['Duduk', 'di', 'samping', 'pak', 'kusir', 'yang', 'sedang', 'bekerja']\n"
     ]
    }
   ],
   "source": [
    "paragraf = 'Pada hari minggu kuturut ayah ke kota. Naik Delman istimewa kududuk di muka. Duduk di samping pak kusir yang sedang bekerja'\n",
    "kalimat = paragraf.split('.')\n",
    "#print(kalimat)\n",
    "\n",
    "for k in kalimat:\n",
    "    print(k.split())"
   ]
  },
  {
   "cell_type": "markdown",
   "metadata": {},
   "source": [
    "# Pencarian kata dalam String"
   ]
  },
  {
   "cell_type": "code",
   "execution_count": 63,
   "metadata": {},
   "outputs": [
    {
     "name": "stdout",
     "output_type": "stream",
     "text": [
      "python Not Found!\n",
      "Java Not Found!\n",
      "C++ Not Found!\n"
     ]
    }
   ],
   "source": [
    "cari = ['Python', 'Java', 'C++']\n",
    "\n",
    "for c in cari:\n",
    "    if c in nama:\n",
    "        print(c,'Found')\n",
    "    else: \n",
    "        print(c,'Not Found!')"
   ]
  },
  {
   "cell_type": "markdown",
   "metadata": {},
   "source": [
    "# Replace String"
   ]
  },
  {
   "cell_type": "code",
   "execution_count": 65,
   "metadata": {},
   "outputs": [
    {
     "name": "stdout",
     "output_type": "stream",
     "text": [
      "pada hari ini saya belajar\n"
     ]
    }
   ],
   "source": [
    "paragraf = \"pd hr ini saya bljr\"\n",
    "paragraf = paragraf.replace('pd', 'pada')\n",
    "paragraf = paragraf.replace('hr', 'hari')\n",
    "paragraf = paragraf.replace('bljr', 'belajar')\n",
    "\n",
    "print(paragraf)"
   ]
  },
  {
   "cell_type": "markdown",
   "metadata": {},
   "source": [
    "# Panjang String, Lowercase, Uppercase"
   ]
  },
  {
   "cell_type": "code",
   "execution_count": 68,
   "metadata": {},
   "outputs": [
    {
     "name": "stdout",
     "output_type": "stream",
     "text": [
      "33\n",
      "TUTORIAL BAHASA PEMOGRAMAN PYTHON\n",
      "tutorial bahasa pemograman python\n"
     ]
    }
   ],
   "source": [
    "print(len(nama))\n",
    "print(nama.upper())\n",
    "print(nama.lower())"
   ]
  },
  {
   "cell_type": "code",
   "execution_count": null,
   "metadata": {},
   "outputs": [],
   "source": []
  }
 ],
 "metadata": {
  "kernelspec": {
   "display_name": "Python 3",
   "language": "python",
   "name": "python3"
  },
  "language_info": {
   "codemirror_mode": {
    "name": "ipython",
    "version": 3
   },
   "file_extension": ".py",
   "mimetype": "text/x-python",
   "name": "python",
   "nbconvert_exporter": "python",
   "pygments_lexer": "ipython3",
   "version": "3.7.0"
  }
 },
 "nbformat": 4,
 "nbformat_minor": 2
}
